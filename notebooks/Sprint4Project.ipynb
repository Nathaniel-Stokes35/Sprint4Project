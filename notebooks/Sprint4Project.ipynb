{
 "cells": [
  {
   "cell_type": "markdown",
   "id": "6d682854-0c80-43a2-8b32-adf7c8baf2fb",
   "metadata": {},
   "source": [
    "<h1>Sprint 4 Project EDA Notebook</h1>"
   ]
  },
  {
   "cell_type": "markdown",
   "id": "64c66e9c-b73a-4b84-92e4-6cff41f706cd",
   "metadata": {},
   "source": [
    "<h2>Initialization</h2>\n",
    "<ol>\n",
    "    <li>Importing dependancies already installed in the virtual enviroment.</li>\n",
    "    <li>Creating the Dataframe contaning the information about listed cars and listing information about the DataFrame.</li>\n",
    "    <li>Listing the data as presented to study and interuprt</li>\n",
    "    <li>Stating my Initial thoughts and conclusions based on that first look at the data.</li>\n",
    "</ol>"
   ]
  },
  {
   "cell_type": "code",
   "execution_count": 1,
   "id": "b2809d44-e1b0-4db1-b84f-52e9acd617f1",
   "metadata": {},
   "outputs": [],
   "source": [
    "import streamlit as st\n",
    "import pandas as pd\n",
    "import plotly.graph_objects as go\n",
    "import plotly.express as px\n",
    "# Dealing with warnings or the interactive Streamlit areas that can't be used in Jupyter\n",
    "pd.options.mode.chained_assignment = None\n",
    "import warnings\n",
    "import logging\n",
    "warnings.filterwarnings('ignore')\n",
    "logging.getLogger('streamlit').setLevel(logging.ERROR)"
   ]
  },
  {
   "cell_type": "code",
   "execution_count": 2,
   "id": "3c97be65-6139-48b1-9b80-01e9154153b9",
   "metadata": {},
   "outputs": [
    {
     "name": "stdout",
     "output_type": "stream",
     "text": [
      "<class 'pandas.core.frame.DataFrame'>\n",
      "RangeIndex: 51525 entries, 0 to 51524\n",
      "Data columns (total 13 columns):\n",
      " #   Column        Non-Null Count  Dtype  \n",
      "---  ------        --------------  -----  \n",
      " 0   price         51525 non-null  int64  \n",
      " 1   model_year    47906 non-null  float64\n",
      " 2   model         51525 non-null  object \n",
      " 3   condition     51525 non-null  object \n",
      " 4   cylinders     46265 non-null  float64\n",
      " 5   fuel          51525 non-null  object \n",
      " 6   odometer      43633 non-null  float64\n",
      " 7   transmission  51525 non-null  object \n",
      " 8   type          51525 non-null  object \n",
      " 9   paint_color   42258 non-null  object \n",
      " 10  is_4wd        25572 non-null  float64\n",
      " 11  date_posted   51525 non-null  object \n",
      " 12  days_listed   51525 non-null  int64  \n",
      "dtypes: float64(4), int64(2), object(7)\n",
      "memory usage: 5.1+ MB\n"
     ]
    },
    {
     "ename": "NameError",
     "evalue": "name 'Dash' is not defined",
     "output_type": "error",
     "traceback": [
      "\u001b[0;31m---------------------------------------------------------------------------\u001b[0m",
      "\u001b[0;31mNameError\u001b[0m                                 Traceback (most recent call last)",
      "Cell \u001b[0;32mIn[2], line 7\u001b[0m\n\u001b[1;32m      5\u001b[0m \u001b[38;5;66;03m# Setting Graph Figure for plotly objects\u001b[39;00m\n\u001b[1;32m      6\u001b[0m fig \u001b[38;5;241m=\u001b[39m go\u001b[38;5;241m.\u001b[39mFigure()\n\u001b[0;32m----> 7\u001b[0m app \u001b[38;5;241m=\u001b[39m \u001b[43mDash\u001b[49m(\u001b[38;5;18m__name__\u001b[39m) \u001b[38;5;66;03m# Dash app name\u001b[39;00m\n",
      "\u001b[0;31mNameError\u001b[0m: name 'Dash' is not defined"
     ]
    }
   ],
   "source": [
    "# Setting the listed_cars variable to the entire dataset and calling some basic methods to better understand the data.\n",
    "listed_cars=pd.read_csv('../datasets/vehicles_us.csv') # Dataset from listed vehicles being sold in the US\n",
    "listed_cars.info()\n",
    "listed_cars.describe()\n",
    "# Setting Graph Figure for plotly objects\n",
    "fig = go.Figure()\n",
    "app = Dash(__name__) # Dash app name"
   ]
  },
  {
   "cell_type": "code",
   "execution_count": null,
   "id": "58feeb17-4f3e-478a-89f2-73ab809c78bf",
   "metadata": {},
   "outputs": [],
   "source": [
    "listed_cars.head(10)"
   ]
  },
  {
   "cell_type": "markdown",
   "id": "631a87d1-ad58-40fe-90d0-53a1c07f52d6",
   "metadata": {},
   "source": [
    "<h3>Inital General Observations</h3></br>\n",
    "&nbsp;&nbsp;&nbsp;&nbsp;We will need to clean up the data some. Should convert \"is_4wd\" into a boolean file format, should\n",
    "convert date posted into a DateTime format for</br>better handeling later on. We may need to deal with the missing \"paint_color\" if it becomes relevant. Some good orginizational maps would be by the </br>\"type\" catagory, \"odometer\" threshold mapping (Including handeling missing odometer readings and how that affects the other categories), the condition </br>of the cars, and days they were listed. Later on we may want to organize by the transmission type too if it becomes relevant.</br>&nbsp;&nbsp;&nbsp;&nbsp;Something else that occurs to me, it may be a good idea to seperate the model from the brand and organize like that too...\n",
    "</br><h5>Key Takeaways</h5>\n",
    "<ul>\n",
    "    <li>Should organize the data in a myriad of ways.</li>\n",
    "    <li>Need to fix/handle the null values.</li>\n",
    "    <li>Convert some of the file formats.</li>\n",
    "</ul>"
   ]
  },
  {
   "cell_type": "markdown",
   "id": "965cab43-3b87-456d-9d47-dc04bd509742",
   "metadata": {},
   "source": [
    "<h2>Preparing the Data</h2>\n",
    "<ol>\n",
    "    <li>Converting columns into more understandable formats while fixing null values.</li>\n",
    "    <li>Grouping information into divded series with relevant information to help with graphing</li>\n",
    "</ol>"
   ]
  },
  {
   "cell_type": "code",
   "execution_count": null,
   "id": "9bb56a70-0a99-4a72-b423-4328e5ba94b0",
   "metadata": {},
   "outputs": [],
   "source": [
    "# Formatting date posted to datetime so it may be easier to handle later. Might remove if I never use it.\n",
    "listed_cars['date_posted'] = pd.to_datetime(listed_cars['date_posted'], format='%Y-%m-%d')\n",
    "\n",
    "# Creating a clean dataFrame with the null values completely removed\n",
    "cleanDF = listed_cars.dropna(axis=0, how='any')\n",
    "\n",
    "# Converting to formats\n",
    "cleanDF['is_4wd'] = cleanDF['is_4wd'].astype('bool')\n",
    "cleanDF['model_year'] = cleanDF['model_year'].astype('int')\n",
    "cleanDF['cylinders'] = cleanDF['cylinders'].astype('int')\n",
    "cleanDF['price'] = round(cleanDF['price'].astype('float'),2)"
   ]
  },
  {
   "cell_type": "code",
   "execution_count": null,
   "id": "414eafda-5480-49e9-8232-5357be66d5d2",
   "metadata": {},
   "outputs": [],
   "source": [
    "# Pulling just the coloumns for the histograms I want to use\n",
    "hist_data = cleanDF[['price', 'model_year', 'model', 'type', 'condition', 'odometer', 'days_listed']]\n",
    "# Choices of X values user can choose from with the interactive histograms\n",
    "x_choices = ['type', 'model', 'model_year', 'condition', 'odometer']"
   ]
  },
  {
   "cell_type": "markdown",
   "id": "b7ab27fd-2af2-41b9-bad9-81cbe313a24b",
   "metadata": {},
   "source": [
    "<h2>Visualizing the Data</h2>\n",
    "<ol>\n",
    "    <li>Creating selectbox and following checklist to choose which variables to visualize on the histograms and scatter plots</li>\n",
    "    <li>Displaying the histograms and scatterplots with choosen variables</li>\n",
    "</ol>"
   ]
  },
  {
   "cell_type": "code",
   "execution_count": null,
   "id": "9fcd7651-2af7-4ec6-b15b-2f2029d4baa1",
   "metadata": {},
   "outputs": [],
   "source": [
    "# Setting up checklist and selection for the user scatterplot\n",
    "options=hist_data[x_var].unique().tolist()\n",
    "options.insert(0, \"All\") # Adding a quick button to compare all values in the variable column\n",
    "select = st.multiselect(f'Which {x_var}s?', options, default='All') # Setting all as default\n",
    "if \"All\" in select:\n",
    "    if len(select)>1:\n",
    "        select.remove('All')\n",
    "        sel_values = hist_data[hist_data[x_var].isin(select)]\n",
    "    else:\n",
    "        sel_values = hist_data\n",
    "else:\n",
    "    sel_values = hist_data[hist_data[x_var].isin(select)]"
   ]
  },
  {
   "cell_type": "code",
   "execution_count": null,
   "id": "8d030d61-0673-4774-8eee-fd2c20333447",
   "metadata": {},
   "outputs": [],
   "source": [
    "#Creating ScatterPlots and Histograms divided by Tabs\n",
    "priceTab, daysTab = st.tabs(['Compared to Price', 'Compared to Days Listed'])\n",
    "with priceTab:\n",
    "    st.scatter_chart(sel_values, x=x_var, y='price', color=x_var)\n",
    "    price_fig = px.histogram(sel_values, x=x_var, y='price', histfunc='avg', title='Price')\n",
    "    st.plotly_chart(price_fig, use_container_width=True)\n",
    "with daysTab:\n",
    "    st.scatter_chart(sel_values, x=x_var, y='days_listed', color=x_var)\n",
    "    days_fig = px.histogram(sel_values, x=x_var, y='days_listed', histfunc='avg', title='Days Listed')\n",
    "    st.plotly_chart(days_fig, use_container_width=True)"
   ]
  }
 ],
 "metadata": {
  "kernelspec": {
   "display_name": "Python (env)",
   "language": "python",
   "name": "env"
  },
  "language_info": {
   "codemirror_mode": {
    "name": "ipython",
    "version": 3
   },
   "file_extension": ".py",
   "mimetype": "text/x-python",
   "name": "python",
   "nbconvert_exporter": "python",
   "pygments_lexer": "ipython3",
   "version": "3.12.3"
  }
 },
 "nbformat": 4,
 "nbformat_minor": 5
}
